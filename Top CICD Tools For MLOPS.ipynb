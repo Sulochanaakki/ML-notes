{
 "cells": [
  {
   "cell_type": "markdown",
   "id": "7ecec3c2",
   "metadata": {},
   "source": [
    "### Top CI/CD Tools For MLOPS\n",
    "\n",
    "Here are some popular continuous integration and delivery (CI/CD) tools that are commonly used by MLOps engineers:\n",
    "\n",
    "Jenkins: Jenkins is an open-source CI/CD tool that is widely used for building, testing, and deploying software projects. It is highly customizable and has a large community of users and developers.\n",
    "\n",
    "Travis CI: Travis CI is a cloud-based CI/CD tool that is popular among open-source projects. It is easy to set up and integrates seamlessly with GitHub.\n",
    "\n",
    "CircleCI: CircleCI is a cloud-based CI/CD tool that is designed to be easy to use and highly scalable. It is popular among startups and has a range of integrations with other tools and platforms.\n",
    "\n",
    "GitLab CI: GitLab CI is a CI/CD tool that is integrated into the GitLab platform. It is popular among organizations that use GitLab for version control and project management.\n",
    "\n",
    "Azure DevOps: Azure DevOps is a cloud-based CI/CD tool offered by Microsoft. It is popular among organizations that use the Azure cloud platform and has a range of integrations with other tools and services."
   ]
  },
  {
   "cell_type": "code",
   "execution_count": null,
   "id": "f7e53f84",
   "metadata": {},
   "outputs": [],
   "source": []
  }
 ],
 "metadata": {
  "kernelspec": {
   "display_name": "Python 3 (ipykernel)",
   "language": "python",
   "name": "python3"
  },
  "language_info": {
   "codemirror_mode": {
    "name": "ipython",
    "version": 3
   },
   "file_extension": ".py",
   "mimetype": "text/x-python",
   "name": "python",
   "nbconvert_exporter": "python",
   "pygments_lexer": "ipython3",
   "version": "3.9.12"
  }
 },
 "nbformat": 4,
 "nbformat_minor": 5
}
