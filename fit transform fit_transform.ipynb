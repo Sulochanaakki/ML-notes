{
 "cells": [
  {
   "cell_type": "markdown",
   "id": "1481dada",
   "metadata": {},
   "source": [
    "### Difference between fit,fit_transform,transform and predict\n",
    "\n",
    "Most scikit-learn objects are either transformers or models.\n",
    "\n",
    "#### Transformers\n",
    "Transformers are for pre-processing before modeling. Standard Scaler,MinMax Sclaler,PCA,Imputer class (like SimpleImputer for filling in missing values) and FeatureSelection classes in sklearn are an example of some transformers.\n",
    "\n",
    "#### Models\n",
    "Models are used to make predictions like Linear Regression model, Decision Tree model, Random Forest model,Adaboost etc. You will usually pre-process your data (with transformers) before putting it in a model.\n",
    "\n",
    "#### For Transformers:\n",
    "These methods are used to center/feature scale the given data. It basically helps to normalize the data within a particular range\n",
    "\n",
    "For this, we use Z-score method.\n",
    "\n",
    "Z = (x - μ )/σ\n",
    "\n",
    "We do this on the training set of data.\n",
    "\n",
    "1.Fit(): Method calculates the parameters μ and σ and saves them as internal objects.\n",
    "\n",
    "2.Transform(): Method using these calculated parameters apply the transformation to a particular dataset.\n",
    "\n",
    "3.Fit_transform(): joins the fit() and transform() method for transformation of dataset.\n",
    "\n",
    "- fit() => transform() or fit_transform()\n",
    "\n",
    "used for Scalers, and NLP Vectorizers'\n",
    "\n",
    "#### For Models:\n",
    "\n",
    "1.fit() - It calculates the parameters/weights on training data (e.g. parameters returned by coef() in case of Linear Regression) and saves them as an internal objects state.\n",
    "\n",
    "2.predict() - Use the above calculated weights on test data to make the predictions\n",
    "\n",
    "- fit() => predict()\n",
    "\n",
    "is almost used for all classifiers in SKLearn (Knn, SVC, Logistic Reg, NaiveBayes … etc)"
   ]
  },
  {
   "cell_type": "code",
   "execution_count": null,
   "id": "00f31547",
   "metadata": {},
   "outputs": [],
   "source": []
  }
 ],
 "metadata": {
  "kernelspec": {
   "display_name": "Python 3 (ipykernel)",
   "language": "python",
   "name": "python3"
  },
  "language_info": {
   "codemirror_mode": {
    "name": "ipython",
    "version": 3
   },
   "file_extension": ".py",
   "mimetype": "text/x-python",
   "name": "python",
   "nbconvert_exporter": "python",
   "pygments_lexer": "ipython3",
   "version": "3.9.12"
  }
 },
 "nbformat": 4,
 "nbformat_minor": 5
}
